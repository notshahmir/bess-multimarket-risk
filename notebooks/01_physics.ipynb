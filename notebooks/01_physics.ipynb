{
  "cells": [
    {
      "cell_type": "markdown",
      "metadata": {
        "id": "VrSI0lH5nzfC"
      },
      "source": [
        "# Title + objective"
      ]
    },
    {
      "cell_type": "markdown",
      "metadata": {
        "id": "Fmy1CsvXnzfD"
      },
      "source": [
        "### Parameters (link to docs/params_phase1.yaml)"
      ]
    },
    {
      "cell_type": "code",
      "source": [],
      "metadata": {
        "id": "Mxx9-IkQoAgY"
      },
      "execution_count": null,
      "outputs": []
    },
    {
      "cell_type": "markdown",
      "metadata": {
        "id": "IUlBxak9nzfD"
      },
      "source": [
        "### Data description (link to data/price_toy.csv)"
      ]
    },
    {
      "cell_type": "code",
      "source": [],
      "metadata": {
        "id": "ANnrK4cToBIs"
      },
      "execution_count": null,
      "outputs": []
    },
    {
      "cell_type": "markdown",
      "metadata": {
        "id": "2dc-RsyEnzfD"
      },
      "source": [
        "### State update equations (copied from docs)"
      ]
    },
    {
      "cell_type": "code",
      "source": [],
      "metadata": {
        "id": "8Ukla9kDoBWm"
      },
      "execution_count": null,
      "outputs": []
    },
    {
      "cell_type": "markdown",
      "metadata": {
        "id": "RQ0HI86CnzfD"
      },
      "source": [
        "### Feasibility checks (SoC bounds, no simultaneous charge/discharge policy)"
      ]
    },
    {
      "cell_type": "code",
      "source": [],
      "metadata": {
        "id": "iCjJ0tOEoBkf"
      },
      "execution_count": null,
      "outputs": []
    },
    {
      "cell_type": "markdown",
      "metadata": {
        "id": "jZuwXUASnzfD"
      },
      "source": [
        "### Cashflow definition"
      ]
    },
    {
      "cell_type": "code",
      "source": [],
      "metadata": {
        "id": "bKLrSLGOoB2o"
      },
      "execution_count": null,
      "outputs": []
    },
    {
      "cell_type": "markdown",
      "metadata": {
        "id": "IlaE51JZnzfD"
      },
      "source": [
        "### Expected plots (describe, don’t implement)"
      ]
    },
    {
      "cell_type": "code",
      "source": [],
      "metadata": {
        "id": "uhb9pw0toCEi"
      },
      "execution_count": null,
      "outputs": []
    },
    {
      "cell_type": "markdown",
      "metadata": {
        "id": "bXDPG3JNnzfD"
      },
      "source": [
        "### Paper test replication (D1–D4)"
      ]
    },
    {
      "cell_type": "code",
      "source": [],
      "metadata": {
        "id": "XUwPWDRBoCTY"
      },
      "execution_count": null,
      "outputs": []
    }
  ],
  "metadata": {
    "kernelspec": {
      "display_name": "Python 3",
      "language": "python",
      "name": "python3"
    },
    "language_info": {
      "codemirror_mode": {
        "name": "ipython",
        "version": 3
      },
      "file_extension": ".py",
      "mimetype": "text/x-python",
      "name": "python",
      "nbconvert_exporter": "python",
      "pygments_lexer": "ipython3",
      "version": "3.9.18"
    },
    "colab": {
      "provenance": []
    }
  },
  "nbformat": 4,
  "nbformat_minor": 0
}